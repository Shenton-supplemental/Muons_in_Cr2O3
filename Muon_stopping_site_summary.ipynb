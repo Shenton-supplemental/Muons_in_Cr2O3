{
 "cells": [
  {
   "cell_type": "markdown",
   "metadata": {},
   "source": [
    "# Observation of a charge-neutral muon polaron complex in antiferromagnetic Cr$_2$O$_3$\n",
    "## Supplemental material: Convergence tests of the plane wave cutoff and k-point sampling\n",
    "\n",
    "M. H. Dehn$^{1, 2, 3}$ J. K. Shenton$^{4,*}$ S. Holenstein$^{5,6}$ Q. N. Meier$^4$ D. J. Arseneau$^3$ D. L. Cortie$^{1, 2, 7, †}$ B. Hitti$^3$ A. C. Y. Fang$^{1, ‡}$ W. A. MacFarlane$^{2, 3, 7}$ R. M. L. McFadden$^{2, 7}$ G.\n",
    "D. Morris$^3$ Z. Salman$^6$ H. Luetkens$^6$ N. A. Spaldin$^4$ M. Fechner$^{4, 8}$ and R. F. Kiefl$^{1, 2, 3}$\n",
    "\n",
    "\n",
    "$^1$Department of Physics and Astronomy, University of British Columbia, Vancouver, BC V6T 1Z1, Canada    \n",
    "$^2$Stewart Blusson Quantum Matter Institute, University of British Columbia, Vancouver, BC V6T 1Z4, Canada    \n",
    "$^3$<span style=\"font-variant:small-caps;\">Triumf</span>, Vancouver, BC V6T 2A3, Canada   \n",
    "$^4$Department of Materials, ETH Zürich, CH-8093 Zürich, Switzerland   \n",
    "$^5$Physik-Institut der Universität Zürich, CH-8057, Zürich, Switzerland   \n",
    "$^6$Laboratory for Muon Spin Spectroscopy, Paul Scherrer Institut, 5232, Villigen PSI, Switzerland   \n",
    "$^7$Department of Chemistry, University of British Columbia, Vancouver, BC, V6T 1Z1, Canada    \n",
    "$^8$Max Planck Institute for the Structure and Dynamics of Matter, 22761 Hamburg, Germany   \n",
    "$^†$ Present address: Institute for Superconducting and Electronic\n",
    "Materials, Australian Institute for Innovative Materials, University of Wollongong, North Wollongong, NSW 2500, Australia    \n",
    "$^‡$ Present address: Department of Physics, Simon Fraser University, Burnaby, Canada V5A 1S6\n",
    "\n",
    "\n",
    "\n",
    "\n",
    "$^*$ For queries about the supplemental information in this notebook contact [J. Kane Shenton](mailto:john.shenton@mat.ethz.ch)."
   ]
  },
  {
   "cell_type": "markdown",
   "metadata": {},
   "source": [
    "---\n",
    "\n",
    "\n",
    "\n",
    "\n",
    "\n",
    "In this notebook we summarise the candidate muon stopping sites in Cr$_2$O$_3$. We identify 4 candidate stopping sites for the bare muon (µ+) and 9 candidate stopping sites for the charge-neutral case (µ0), as listed in Table II of the paper.\n",
    "\n",
    "Given the $2\\times2\\times2$ supercell used, and the choice of PAWs described in the paper, the charge-neutral condition has 737 electrons treated explicitly. For the bare muon, 736 electrons are treated explicitly, with a uniform background charge applied to compensate. \n",
    "\n",
    "\n",
    "The vasprun.xml files, containing information about both input parameters and output results, corresponding to self-consistent calculations for each candidate site can be found in the mu_plus and mu_zero directories. The sites are labelled as in the paper, Table II. \n",
    "\n",
    "\n",
    "We used [ASE](https://wiki.fysik.dtu.dk/ase/index.html) to setup and run the calculations and use [pymatgen](https://pymatgen.org) to parse in the results. "
   ]
  },
  {
   "cell_type": "code",
   "execution_count": 1,
   "metadata": {
    "ExecuteTime": {
     "end_time": "2019-08-23T09:03:12.297501Z",
     "start_time": "2019-08-23T09:03:10.778305Z"
    }
   },
   "outputs": [],
   "source": [
    "import numpy as np\n",
    "import numpy.linalg as la\n",
    "from pymatgen.io.vasp import Vasprun\n"
   ]
  },
  {
   "cell_type": "code",
   "execution_count": 2,
   "metadata": {
    "ExecuteTime": {
     "end_time": "2019-08-23T09:03:12.310175Z",
     "start_time": "2019-08-23T09:03:12.301444Z"
    }
   },
   "outputs": [],
   "source": [
    "def run_summary(run):\n",
    "    # Check that the run has converged:\n",
    "    print(\"Run has converged: {}\\n\".format(run.converged))\n",
    "\n",
    "    # Get total energy:\n",
    "    toten = run.final_energy\n",
    "    print('TOTEN = {0:16.8f} eV\\n'.format(toten))\n",
    "\n",
    "    # check max force:\n",
    "    forces = run.ionic_steps[-1]['forces']\n",
    "    force_magnitudes = la.norm(forces, axis=1)\n",
    "\n",
    "    print('Max force = {0:6.2f} meV/Å\\n'.format(force_magnitudes.max() *1e3))\n",
    "\n",
    "    #print k-point information\n",
    "    print(run.kpoints)\n",
    "    \n",
    "    # number of electrons in the system:\n",
    "    nelect = run.parameters['NELECT']\n",
    "    print('\\n# of electrons: ', nelect)"
   ]
  },
  {
   "cell_type": "code",
   "execution_count": 3,
   "metadata": {
    "ExecuteTime": {
     "end_time": "2019-08-23T09:03:12.405888Z",
     "start_time": "2019-08-23T09:03:12.312847Z"
    }
   },
   "outputs": [],
   "source": [
    "# Base directory that stores the vasprun files\n",
    "basedir = './'"
   ]
  },
  {
   "cell_type": "markdown",
   "metadata": {},
   "source": [
    "## Bare muon (µ+)"
   ]
  },
  {
   "cell_type": "code",
   "execution_count": 4,
   "metadata": {
    "ExecuteTime": {
     "end_time": "2019-08-23T09:03:12.462323Z",
     "start_time": "2019-08-23T09:03:12.408933Z"
    }
   },
   "outputs": [],
   "source": [
    "muon_totens = {}"
   ]
  },
  {
   "cell_type": "markdown",
   "metadata": {},
   "source": [
    "### Doughnut site"
   ]
  },
  {
   "cell_type": "code",
   "execution_count": 5,
   "metadata": {
    "ExecuteTime": {
     "end_time": "2019-08-23T09:03:18.239104Z",
     "start_time": "2019-08-23T09:03:12.465221Z"
    }
   },
   "outputs": [],
   "source": [
    "\n",
    "run = Vasprun(basedir + 'mu_plus/D/20190520-1402-vasprun.xml', parse_potcar_file=False)"
   ]
  },
  {
   "cell_type": "code",
   "execution_count": 6,
   "metadata": {
    "ExecuteTime": {
     "end_time": "2019-08-23T09:03:18.243938Z",
     "start_time": "2019-08-23T09:03:18.241015Z"
    }
   },
   "outputs": [
    {
     "name": "stdout",
     "output_type": "stream",
     "text": [
      "Run has converged: True\n",
      "\n",
      "TOTEN =    -706.15614751 eV\n",
      "\n",
      "Max force =   4.78 meV/Å\n",
      "\n",
      "Kpoints from vasprun.xml\n",
      "0\n",
      "Gamma\n",
      "4 4 4\n",
      "\n",
      "\n",
      "# of electrons:  736.0\n"
     ]
    }
   ],
   "source": [
    "run_summary(run)"
   ]
  },
  {
   "cell_type": "code",
   "execution_count": 7,
   "metadata": {
    "ExecuteTime": {
     "end_time": "2019-08-23T09:03:18.335264Z",
     "start_time": "2019-08-23T09:03:18.246239Z"
    }
   },
   "outputs": [],
   "source": [
    "muon_totens['d'] = run.final_energy"
   ]
  },
  {
   "cell_type": "markdown",
   "metadata": {},
   "source": [
    "### Bates 0 site"
   ]
  },
  {
   "cell_type": "code",
   "execution_count": 8,
   "metadata": {
    "ExecuteTime": {
     "end_time": "2019-08-23T09:03:22.025474Z",
     "start_time": "2019-08-23T09:03:18.338606Z"
    }
   },
   "outputs": [],
   "source": [
    "\n",
    "run = Vasprun(basedir + 'mu_plus/B0/20190520-1432-vasprun.xml', parse_potcar_file=False)"
   ]
  },
  {
   "cell_type": "code",
   "execution_count": 9,
   "metadata": {
    "ExecuteTime": {
     "end_time": "2019-08-23T09:03:22.029913Z",
     "start_time": "2019-08-23T09:03:22.027240Z"
    }
   },
   "outputs": [
    {
     "name": "stdout",
     "output_type": "stream",
     "text": [
      "Run has converged: True\n",
      "\n",
      "TOTEN =    -705.40275710 eV\n",
      "\n",
      "Max force =   3.04 meV/Å\n",
      "\n",
      "Kpoints from vasprun.xml\n",
      "0\n",
      "Gamma\n",
      "4 4 4\n",
      "\n",
      "\n",
      "# of electrons:  736.0\n"
     ]
    }
   ],
   "source": [
    "run_summary(run)"
   ]
  },
  {
   "cell_type": "code",
   "execution_count": 10,
   "metadata": {
    "ExecuteTime": {
     "end_time": "2019-08-23T09:03:22.091947Z",
     "start_time": "2019-08-23T09:03:22.030934Z"
    }
   },
   "outputs": [],
   "source": [
    "muon_totens['b0'] = run.final_energy"
   ]
  },
  {
   "cell_type": "markdown",
   "metadata": {},
   "source": [
    "### Central site -- exact"
   ]
  },
  {
   "cell_type": "code",
   "execution_count": 11,
   "metadata": {
    "ExecuteTime": {
     "end_time": "2019-08-23T09:03:24.265376Z",
     "start_time": "2019-08-23T09:03:22.094630Z"
    }
   },
   "outputs": [],
   "source": [
    "\n",
    "run = Vasprun(basedir + 'mu_plus/CE/20190520-1514-vasprun.xml', parse_potcar_file=False)"
   ]
  },
  {
   "cell_type": "code",
   "execution_count": 12,
   "metadata": {
    "ExecuteTime": {
     "end_time": "2019-08-23T09:03:24.269823Z",
     "start_time": "2019-08-23T09:03:24.267211Z"
    }
   },
   "outputs": [
    {
     "name": "stdout",
     "output_type": "stream",
     "text": [
      "Run has converged: True\n",
      "\n",
      "TOTEN =    -704.42817080 eV\n",
      "\n",
      "Max force =   2.85 meV/Å\n",
      "\n",
      "Kpoints from vasprun.xml\n",
      "0\n",
      "Gamma\n",
      "4 4 4\n",
      "\n",
      "\n",
      "# of electrons:  736.0\n"
     ]
    }
   ],
   "source": [
    "run_summary(run)"
   ]
  },
  {
   "cell_type": "code",
   "execution_count": 13,
   "metadata": {
    "ExecuteTime": {
     "end_time": "2019-08-23T09:03:24.327835Z",
     "start_time": "2019-08-23T09:03:24.270818Z"
    }
   },
   "outputs": [],
   "source": [
    "muon_totens['c0'] = run.final_energy"
   ]
  },
  {
   "cell_type": "markdown",
   "metadata": {},
   "source": [
    "### Central site -- offset in z"
   ]
  },
  {
   "cell_type": "code",
   "execution_count": 14,
   "metadata": {
    "ExecuteTime": {
     "end_time": "2019-08-23T09:03:26.712650Z",
     "start_time": "2019-08-23T09:03:24.330499Z"
    }
   },
   "outputs": [],
   "source": [
    "\n",
    "run = Vasprun(basedir + 'mu_plus/CO/20190520-1516-vasprun.xml', parse_potcar_file=False)"
   ]
  },
  {
   "cell_type": "code",
   "execution_count": 15,
   "metadata": {
    "ExecuteTime": {
     "end_time": "2019-08-23T09:03:26.716548Z",
     "start_time": "2019-08-23T09:03:26.713995Z"
    }
   },
   "outputs": [
    {
     "name": "stdout",
     "output_type": "stream",
     "text": [
      "Run has converged: True\n",
      "\n",
      "TOTEN =    -704.59156967 eV\n",
      "\n",
      "Max force =   2.92 meV/Å\n",
      "\n",
      "Kpoints from vasprun.xml\n",
      "0\n",
      "Gamma\n",
      "4 4 4\n",
      "\n",
      "\n",
      "# of electrons:  736.0\n"
     ]
    }
   ],
   "source": [
    "run_summary(run)"
   ]
  },
  {
   "cell_type": "code",
   "execution_count": 16,
   "metadata": {
    "ExecuteTime": {
     "end_time": "2019-08-23T09:03:26.774240Z",
     "start_time": "2019-08-23T09:03:26.717602Z"
    }
   },
   "outputs": [],
   "source": [
    "muon_totens['c_off'] = run.final_energy"
   ]
  },
  {
   "cell_type": "markdown",
   "metadata": {},
   "source": [
    "### Site energetics:"
   ]
  },
  {
   "cell_type": "code",
   "execution_count": 17,
   "metadata": {
    "ExecuteTime": {
     "end_time": "2019-08-23T09:03:26.835433Z",
     "start_time": "2019-08-23T09:03:26.776774Z"
    }
   },
   "outputs": [
    {
     "name": "stdout",
     "output_type": "stream",
     "text": [
      "Energy above the lowest-energy site\n",
      "            d       0.00 meV\n",
      "           b0     753.39 meV\n",
      "           c0    1727.98 meV\n",
      "        c_off    1564.58 meV\n"
     ]
    }
   ],
   "source": [
    "min_E = np.array(list(muon_totens.values())).min()\n",
    "print('Energy above the lowest-energy site')\n",
    "for key, val in muon_totens.items():\n",
    "    print(\"{0:>13} {1:10.2f} meV\".format(key, (val - min_E)*1e3))"
   ]
  },
  {
   "cell_type": "markdown",
   "metadata": {},
   "source": [
    "## Charge-neutral muon state (µ0)"
   ]
  },
  {
   "cell_type": "code",
   "execution_count": 18,
   "metadata": {
    "ExecuteTime": {
     "end_time": "2019-08-23T09:03:26.898595Z",
     "start_time": "2019-08-23T09:03:26.838112Z"
    }
   },
   "outputs": [],
   "source": [
    "Mu_totens = {}"
   ]
  },
  {
   "cell_type": "markdown",
   "metadata": {},
   "source": [
    "### Doughnut sites:"
   ]
  },
  {
   "cell_type": "code",
   "execution_count": 19,
   "metadata": {
    "ExecuteTime": {
     "end_time": "2019-08-23T09:03:53.723117Z",
     "start_time": "2019-08-23T09:03:26.901273Z"
    }
   },
   "outputs": [
    {
     "name": "stdout",
     "output_type": "stream",
     "text": [
      "---------------------------\n",
      "##### Doughnut 1 site #####\n",
      "---------------------------\n",
      "Run has converged: True\n",
      "\n",
      "TOTEN =    -696.20710914 eV\n",
      "\n",
      "Max force =   4.69 meV/Å\n",
      "\n",
      "Kpoints from vasprun.xml\n",
      "0\n",
      "Gamma\n",
      "4 4 4\n",
      "\n",
      "\n",
      "# of electrons:  737.0\n",
      "\n",
      "\n",
      "---------------------------\n",
      "##### Doughnut 2 site #####\n",
      "---------------------------\n",
      "Run has converged: True\n",
      "\n",
      "TOTEN =    -696.09115515 eV\n",
      "\n",
      "Max force =   4.40 meV/Å\n",
      "\n",
      "Kpoints from vasprun.xml\n",
      "0\n",
      "Gamma\n",
      "4 4 4\n",
      "\n",
      "\n",
      "# of electrons:  737.0\n",
      "\n",
      "\n",
      "---------------------------\n",
      "##### Doughnut 3 site #####\n",
      "---------------------------\n",
      "Run has converged: True\n",
      "\n",
      "TOTEN =    -695.88706990 eV\n",
      "\n",
      "Max force =   4.88 meV/Å\n",
      "\n",
      "Kpoints from vasprun.xml\n",
      "0\n",
      "Gamma\n",
      "4 4 4\n",
      "\n",
      "\n",
      "# of electrons:  737.0\n",
      "\n",
      "\n",
      "---------------------------\n",
      "##### Doughnut 4 site #####\n",
      "---------------------------\n",
      "Run has converged: True\n",
      "\n",
      "TOTEN =    -695.78789937 eV\n",
      "\n",
      "Max force =   4.52 meV/Å\n",
      "\n",
      "Kpoints from vasprun.xml\n",
      "0\n",
      "Gamma\n",
      "4 4 4\n",
      "\n",
      "\n",
      "# of electrons:  737.0\n",
      "\n",
      "\n",
      "---------------------------\n",
      "##### Doughnut 5 site #####\n",
      "---------------------------\n",
      "Run has converged: True\n",
      "\n",
      "TOTEN =    -695.75882037 eV\n",
      "\n",
      "Max force =   4.33 meV/Å\n",
      "\n",
      "Kpoints from vasprun.xml\n",
      "0\n",
      "Gamma\n",
      "4 4 4\n",
      "\n",
      "\n",
      "# of electrons:  737.0\n",
      "\n",
      "\n"
     ]
    }
   ],
   "source": [
    "\n",
    "for d in range(1,6):\n",
    "    run = Vasprun(basedir + 'mu_zero/D{}/vasprun.xml'.format(d), parse_potcar_file=False)\n",
    "    print(27*'-')\n",
    "    print(5*'#'+' Doughnut {} site '.format(d)+5*'#')\n",
    "    print(27*'-')\n",
    "    run_summary(run)\n",
    "    print('\\n')\n",
    "    \n",
    "    Mu_totens['d{}'.format(d)] = run.final_energy\n",
    "    \n",
    "    "
   ]
  },
  {
   "cell_type": "markdown",
   "metadata": {
    "ExecuteTime": {
     "end_time": "2019-08-20T13:39:05.451322Z",
     "start_time": "2019-08-20T13:39:05.447399Z"
    }
   },
   "source": [
    "Summarising the doughnut site energies:"
   ]
  },
  {
   "cell_type": "code",
   "execution_count": 20,
   "metadata": {
    "ExecuteTime": {
     "end_time": "2019-08-23T09:03:53.727813Z",
     "start_time": "2019-08-23T09:03:53.724256Z"
    }
   },
   "outputs": [
    {
     "name": "stdout",
     "output_type": "stream",
     "text": [
      "dE(D1) =    0.0 meV\n",
      "dE(D2) =  116.0 meV\n",
      "dE(D3) =  320.0 meV\n",
      "dE(D4) =  419.2 meV\n",
      "dE(D5) =  448.3 meV\n"
     ]
    }
   ],
   "source": [
    "minE = min([Mu_totens['d{}'.format(d)] for d in range(1,6)])\n",
    "for d in range(1,6):\n",
    "    dE = (Mu_totens['d{}'.format(d)] - minE) * 1000 # convert to meV\n",
    "    print('dE(D{0}) = {1: 6.1f} meV'.format(d, dE))"
   ]
  },
  {
   "cell_type": "markdown",
   "metadata": {},
   "source": [
    "### Bates 0 site"
   ]
  },
  {
   "cell_type": "code",
   "execution_count": 21,
   "metadata": {
    "ExecuteTime": {
     "end_time": "2019-08-23T09:03:59.446637Z",
     "start_time": "2019-08-23T09:03:53.728790Z"
    }
   },
   "outputs": [],
   "source": [
    "\n",
    "run = Vasprun(basedir + 'mu_zero/B0/tetra_20190618-1412-vasprun.xml', parse_potcar_file=False)"
   ]
  },
  {
   "cell_type": "code",
   "execution_count": 22,
   "metadata": {
    "ExecuteTime": {
     "end_time": "2019-08-23T09:03:59.452624Z",
     "start_time": "2019-08-23T09:03:59.450045Z"
    }
   },
   "outputs": [
    {
     "name": "stdout",
     "output_type": "stream",
     "text": [
      "Run has converged: True\n",
      "\n",
      "TOTEN =    -695.05014683 eV\n",
      "\n",
      "Max force =   7.43 meV/Å\n",
      "\n",
      "Kpoints from vasprun.xml\n",
      "0\n",
      "Gamma\n",
      "4 4 4\n",
      "\n",
      "\n",
      "# of electrons:  737.0\n"
     ]
    }
   ],
   "source": [
    "run_summary(run)"
   ]
  },
  {
   "cell_type": "code",
   "execution_count": 23,
   "metadata": {
    "ExecuteTime": {
     "end_time": "2019-08-23T09:03:59.566711Z",
     "start_time": "2019-08-23T09:03:59.454193Z"
    }
   },
   "outputs": [],
   "source": [
    "Mu_totens['b0'] = run.final_energy"
   ]
  },
  {
   "cell_type": "markdown",
   "metadata": {},
   "source": [
    "Note that for the Bates 0 site, the force appears to exceed the threshold of 5 meV/Å, however, since this structure was found to be gapless, the Gaussian smearing method was used for the relaxation and the tetrahedron method was used on the final structure, just to get an accurate total energy estimate. See the file: `mu_zero/B0/gauss_vasprun.xml` for the self-consistent run using the Gaussian smearing. "
   ]
  },
  {
   "cell_type": "code",
   "execution_count": 24,
   "metadata": {
    "ExecuteTime": {
     "end_time": "2019-08-23T09:04:05.055178Z",
     "start_time": "2019-08-23T09:03:59.569506Z"
    }
   },
   "outputs": [
    {
     "name": "stdout",
     "output_type": "stream",
     "text": [
      "Run has converged: True\n",
      "\n",
      "TOTEN =    -695.05008635 eV\n",
      "\n",
      "Max force =   4.51 meV/Å\n",
      "\n",
      "Kpoints from vasprun.xml\n",
      "0\n",
      "Gamma\n",
      "4 4 4\n",
      "\n",
      "\n",
      "# of electrons:  737.0\n",
      "0 -> Gaussian smearing\n"
     ]
    }
   ],
   "source": [
    "# Gaussian smearing:\n",
    "run = Vasprun(basedir + 'mu_zero/B0/gauss_vasprun.xml', parse_potcar_file=False)\n",
    "run_summary(run)\n",
    "print(run.incar['ISMEAR'], '-> Gaussian smearing')"
   ]
  },
  {
   "cell_type": "code",
   "execution_count": null,
   "metadata": {},
   "outputs": [],
   "source": []
  },
  {
   "cell_type": "markdown",
   "metadata": {},
   "source": [
    "### Bates 1 site"
   ]
  },
  {
   "cell_type": "code",
   "execution_count": 25,
   "metadata": {
    "ExecuteTime": {
     "end_time": "2019-08-23T09:04:10.234913Z",
     "start_time": "2019-08-23T09:04:05.056385Z"
    }
   },
   "outputs": [],
   "source": [
    "\n",
    "run = Vasprun(basedir + 'mu_zero/B1/vasprun.xml', parse_potcar_file=False)"
   ]
  },
  {
   "cell_type": "code",
   "execution_count": 26,
   "metadata": {
    "ExecuteTime": {
     "end_time": "2019-08-23T09:04:10.238915Z",
     "start_time": "2019-08-23T09:04:10.236348Z"
    }
   },
   "outputs": [
    {
     "name": "stdout",
     "output_type": "stream",
     "text": [
      "Run has converged: True\n",
      "\n",
      "TOTEN =    -695.26189978 eV\n",
      "\n",
      "Max force =   4.27 meV/Å\n",
      "\n",
      "Kpoints from vasprun.xml\n",
      "0\n",
      "Gamma\n",
      "4 4 4\n",
      "\n",
      "\n",
      "# of electrons:  737.0\n"
     ]
    }
   ],
   "source": [
    "run_summary(run)"
   ]
  },
  {
   "cell_type": "code",
   "execution_count": 27,
   "metadata": {
    "ExecuteTime": {
     "end_time": "2019-08-23T09:04:10.298866Z",
     "start_time": "2019-08-23T09:04:10.239911Z"
    }
   },
   "outputs": [],
   "source": [
    "Mu_totens['b1'] = run.final_energy"
   ]
  },
  {
   "cell_type": "markdown",
   "metadata": {},
   "source": [
    "### Central site -- exact"
   ]
  },
  {
   "cell_type": "code",
   "execution_count": 28,
   "metadata": {
    "ExecuteTime": {
     "end_time": "2019-08-23T09:04:12.466588Z",
     "start_time": "2019-08-23T09:04:10.301086Z"
    }
   },
   "outputs": [],
   "source": [
    "\n",
    "run = Vasprun(basedir + 'mu_zero/CE/20190613-1334-vasprun.xml', parse_potcar_file=False)"
   ]
  },
  {
   "cell_type": "code",
   "execution_count": 29,
   "metadata": {
    "ExecuteTime": {
     "end_time": "2019-08-23T09:04:12.471074Z",
     "start_time": "2019-08-23T09:04:12.468444Z"
    }
   },
   "outputs": [
    {
     "name": "stdout",
     "output_type": "stream",
     "text": [
      "Run has converged: True\n",
      "\n",
      "TOTEN =    -695.00066121 eV\n",
      "\n",
      "Max force =   4.17 meV/Å\n",
      "\n",
      "Kpoints from vasprun.xml\n",
      "0\n",
      "Gamma\n",
      "4 4 4\n",
      "\n",
      "\n",
      "# of electrons:  737.0\n"
     ]
    }
   ],
   "source": [
    "run_summary(run)"
   ]
  },
  {
   "cell_type": "code",
   "execution_count": 30,
   "metadata": {
    "ExecuteTime": {
     "end_time": "2019-08-23T09:04:12.532276Z",
     "start_time": "2019-08-23T09:04:12.472035Z"
    }
   },
   "outputs": [],
   "source": [
    "Mu_totens['c_e'] = run.final_energy"
   ]
  },
  {
   "cell_type": "markdown",
   "metadata": {},
   "source": [
    "### Central site -- offset in z"
   ]
  },
  {
   "cell_type": "code",
   "execution_count": 31,
   "metadata": {
    "ExecuteTime": {
     "end_time": "2019-08-23T09:04:14.873305Z",
     "start_time": "2019-08-23T09:04:12.534949Z"
    }
   },
   "outputs": [],
   "source": [
    "\n",
    "run = Vasprun(basedir + 'mu_zero/CO/20190520-1531-vasprun.xml', parse_potcar_file=False)"
   ]
  },
  {
   "cell_type": "code",
   "execution_count": 32,
   "metadata": {
    "ExecuteTime": {
     "end_time": "2019-08-23T09:04:14.877303Z",
     "start_time": "2019-08-23T09:04:14.874686Z"
    }
   },
   "outputs": [
    {
     "name": "stdout",
     "output_type": "stream",
     "text": [
      "Run has converged: True\n",
      "\n",
      "TOTEN =    -695.85199714 eV\n",
      "\n",
      "Max force =   4.46 meV/Å\n",
      "\n",
      "Kpoints from vasprun.xml\n",
      "0\n",
      "Gamma\n",
      "4 4 4\n",
      "\n",
      "\n",
      "# of electrons:  737.0\n"
     ]
    }
   ],
   "source": [
    "run_summary(run)"
   ]
  },
  {
   "cell_type": "code",
   "execution_count": 33,
   "metadata": {
    "ExecuteTime": {
     "end_time": "2019-08-23T09:04:14.973166Z",
     "start_time": "2019-08-23T09:04:14.878291Z"
    }
   },
   "outputs": [],
   "source": [
    "Mu_totens['c_off'] = run.final_energy"
   ]
  },
  {
   "cell_type": "code",
   "execution_count": 34,
   "metadata": {
    "ExecuteTime": {
     "end_time": "2019-08-23T09:04:15.055543Z",
     "start_time": "2019-08-23T09:04:14.975881Z"
    }
   },
   "outputs": [
    {
     "name": "stdout",
     "output_type": "stream",
     "text": [
      "Energy above the lowest-energy site\n",
      "           D1        0.0 meV\n",
      "           D2      116.0 meV\n",
      "           D3      320.0 meV\n",
      "           D4      419.2 meV\n",
      "           D5      448.3 meV\n",
      "           B0     1157.0 meV\n",
      "           B1      945.2 meV\n",
      "          C_E     1206.4 meV\n",
      "        C_OFF      355.1 meV\n"
     ]
    }
   ],
   "source": [
    "min_E = np.array(list(Mu_totens.values())).min()\n",
    "print('Energy above the lowest-energy site')\n",
    "for key, val in Mu_totens.items():\n",
    "    print(\"{0:>13} {1:10.1f} meV\".format(key.upper(), (val - min_E)*1e3))"
   ]
  }
 ],
 "metadata": {
  "kernelspec": {
   "display_name": "Python 3",
   "language": "python",
   "name": "python3"
  },
  "language_info": {
   "codemirror_mode": {
    "name": "ipython",
    "version": 3
   },
   "file_extension": ".py",
   "mimetype": "text/x-python",
   "name": "python",
   "nbconvert_exporter": "python",
   "pygments_lexer": "ipython3",
   "version": "3.7.3"
  },
  "toc": {
   "base_numbering": 1,
   "nav_menu": {},
   "number_sections": true,
   "sideBar": true,
   "skip_h1_title": false,
   "title_cell": "Table of Contents",
   "title_sidebar": "Contents",
   "toc_cell": false,
   "toc_position": {
    "height": "calc(100% - 180px)",
    "left": "10px",
    "top": "150px",
    "width": "288px"
   },
   "toc_section_display": true,
   "toc_window_display": false
  },
  "varInspector": {
   "cols": {
    "lenName": 16,
    "lenType": 16,
    "lenVar": 40
   },
   "kernels_config": {
    "python": {
     "delete_cmd_postfix": "",
     "delete_cmd_prefix": "del ",
     "library": "var_list.py",
     "varRefreshCmd": "print(var_dic_list())"
    },
    "r": {
     "delete_cmd_postfix": ") ",
     "delete_cmd_prefix": "rm(",
     "library": "var_list.r",
     "varRefreshCmd": "cat(var_dic_list()) "
    }
   },
   "types_to_exclude": [
    "module",
    "function",
    "builtin_function_or_method",
    "instance",
    "_Feature"
   ],
   "window_display": false
  }
 },
 "nbformat": 4,
 "nbformat_minor": 2
}
